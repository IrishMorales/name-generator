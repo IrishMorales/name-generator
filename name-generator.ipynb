{
 "cells": [
  {
   "attachments": {},
   "cell_type": "markdown",
   "metadata": {},
   "source": [
    "# Name Generator\n",
    "This notebook shows the use of a neural network trained to generate names. Names are generated on a per-character basis based on a set of names defined in `names.txt`. The following steps are done:\n",
    "- Text cleanup: Lowercasing everything\n",
    "- Creating a mapping for character indices\n",
    "- Creating a mapping for indices to characters\n",
    "- Defining x and y vectors\n",
    "- Passing x and y vectors to a multi-layer perceptron model\n",
    "- Generating names using the trained model"
   ]
  }
 ],
 "metadata": {
  "language_info": {
   "name": "python"
  },
  "orig_nbformat": 4
 },
 "nbformat": 4,
 "nbformat_minor": 2
}
